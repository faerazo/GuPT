{
 "cells": [
  {
   "cell_type": "markdown",
   "metadata": {},
   "source": [
    "# Project: LlamaCSE\n",
    "## Group Members:\n",
    "### Chukwudumebi Ubogu, e-mail: ubogu@student.chalmers.se\n",
    "### Francisco Alejandro Erazo Piza, e-mail: guserafr@student.gu.se\n",
    "### Nils Dunlop, e-mail: gusdunlni@student.gu.se\n",
    "### Yunyi Xu, e-mail: yunyix@student.chalmers.se"
   ]
  },
  {
   "cell_type": "code",
   "execution_count": 1,
   "metadata": {},
   "outputs": [
    {
     "name": "stderr",
     "output_type": "stream",
     "text": [
      "2025-01-03 14:05:12.412763: I external/local_xla/xla/tsl/cuda/cudart_stub.cc:32] Could not find cuda drivers on your machine, GPU will not be used.\n",
      "2025-01-03 14:05:12.436755: E external/local_xla/xla/stream_executor/cuda/cuda_fft.cc:477] Unable to register cuFFT factory: Attempting to register factory for plugin cuFFT when one has already been registered\n",
      "WARNING: All log messages before absl::InitializeLog() is called are written to STDERR\n",
      "E0000 00:00:1735909512.478603 3800488 cuda_dnn.cc:8310] Unable to register cuDNN factory: Attempting to register factory for plugin cuDNN when one has already been registered\n",
      "E0000 00:00:1735909512.491374 3800488 cuda_blas.cc:1418] Unable to register cuBLAS factory: Attempting to register factory for plugin cuBLAS when one has already been registered\n",
      "2025-01-03 14:05:12.527353: I tensorflow/core/platform/cpu_feature_guard.cc:210] This TensorFlow binary is optimized to use available CPU instructions in performance-critical operations.\n",
      "To enable the following instructions: AVX2 AVX512F FMA, in other operations, rebuild TensorFlow with the appropriate compiler flags.\n"
     ]
    }
   ],
   "source": [
    "# Import libraries\n",
    "import json\n",
    "from sentence_transformers import SentenceTransformer\n",
    "import torch\n",
    "from typing import List, Dict\n",
    "import numpy as np\n",
    "import torch\n",
    "from sentence_transformers import SentenceTransformer\n",
    "from transformers import AutoTokenizer, AutoModelForCausalLM\n",
    "import numpy as np\n",
    "from typing import List, Dict, Tuple"
   ]
  },
  {
   "cell_type": "markdown",
   "metadata": {},
   "source": [
    "### Create Data Embeddings"
   ]
  },
  {
   "cell_type": "code",
   "execution_count": 2,
   "metadata": {},
   "outputs": [],
   "source": [
    "class CourseDataProcessor:\n",
    "    def __init__(self, model_name: str = 'all-MiniLM-L6-v2'):\n",
    "        self.model = SentenceTransformer(model_name)\n",
    "        \n",
    "    def load_json_data(self, file_path: str) -> List[Dict]:\n",
    "        with open(file_path, 'r') as f:\n",
    "            return json.load(f)\n",
    "    \n",
    "    def create_course_chunks(self, course_data: Dict) -> List[str]:\n",
    "        \"\"\"Create meaningful chunks from course data for embedding\"\"\"\n",
    "        chunks = []\n",
    "        \n",
    "        # Basic course info chunk\n",
    "        basic_info = f\"Course {course_data['course_code']}: {course_data['course_name']} is a {course_data['credits']} credit course at {course_data['department']}. {course_data['course_content']}\"\n",
    "        chunks.append(basic_info)\n",
    "        \n",
    "        # Learning outcomes chunk\n",
    "        if 'learning_outcomes' in course_data and course_data['learning_outcomes']:\n",
    "            for outcome in course_data['learning_outcomes']:\n",
    "                for category, details in outcome.items():\n",
    "                    chunks.append(f\"Learning outcome - {category}: {details}\")\n",
    "        \n",
    "        # Requirements chunk\n",
    "        if 'entry_requirements' in course_data:\n",
    "            chunks.append(f\"Entry requirements: {course_data['entry_requirements']}\")\n",
    "        \n",
    "        # Teaching and assessment chunks\n",
    "        if 'form_of_teaching' in course_data:\n",
    "            chunks.append(f\"Teaching format: {course_data['form_of_teaching']}\")\n",
    "        if 'assessment' in course_data:\n",
    "            chunks.append(f\"Assessment method: {course_data['assessment']}\")\n",
    "        \n",
    "        return chunks\n",
    "    \n",
    "    def generate_embeddings(self, chunks: List[str]) -> torch.Tensor:\n",
    "        \"\"\"Generate embeddings for text chunks\"\"\"\n",
    "        return self.model.encode(chunks, convert_to_tensor=True)\n",
    "    \n",
    "    def process_all_courses(self, courses_data: List[Dict]) -> Dict:\n",
    "        \"\"\"Process all courses and return embeddings with metadata\"\"\"\n",
    "        all_chunks = []\n",
    "        chunk_to_course_map = []\n",
    "        \n",
    "        for course in courses_data:\n",
    "            course_chunks = self.create_course_chunks(course)\n",
    "            all_chunks.extend(course_chunks)\n",
    "            chunk_to_course_map.extend([course['course_code']] * len(course_chunks))\n",
    "            \n",
    "        embeddings = self.generate_embeddings(all_chunks)\n",
    "        \n",
    "        return {\n",
    "            'embeddings': embeddings,\n",
    "            'chunks': all_chunks,\n",
    "            'course_map': chunk_to_course_map\n",
    "        }\n",
    "    \n",
    "    def save_embeddings(self, embeddings_data: Dict, save_path: str):\n",
    "        \"\"\"Save embeddings and metadata\"\"\"\n",
    "        torch.save({\n",
    "            'embeddings': embeddings_data['embeddings'],\n",
    "            'chunks': embeddings_data['chunks'],\n",
    "            'course_map': embeddings_data['course_map']\n",
    "        }, save_path)"
   ]
  },
  {
   "cell_type": "code",
   "execution_count": 3,
   "metadata": {},
   "outputs": [
    {
     "name": "stderr",
     "output_type": "stream",
     "text": [
      "/home/2023/nilsdu/.local/lib/python3.9/site-packages/torch/cuda/__init__.py:716: UserWarning: Can't initialize NVML\n",
      "  warnings.warn(\"Can't initialize NVML\")\n"
     ]
    }
   ],
   "source": [
    "processor = CourseDataProcessor()\n",
    "courses = processor.load_json_data('data/json/merged_data.json')\n",
    "embeddings_data = processor.process_all_courses(courses)\n",
    "processor.save_embeddings(embeddings_data, 'data/embeddings/course_embeddings.pt')"
   ]
  }
 ],
 "metadata": {
  "kernelspec": {
   "display_name": "nlp_project",
   "language": "python",
   "name": "python3"
  },
  "language_info": {
   "codemirror_mode": {
    "name": "ipython",
    "version": 3
   },
   "file_extension": ".py",
   "mimetype": "text/x-python",
   "name": "python",
   "nbconvert_exporter": "python",
   "pygments_lexer": "ipython3",
   "version": "3.9.21"
  }
 },
 "nbformat": 4,
 "nbformat_minor": 2
}
